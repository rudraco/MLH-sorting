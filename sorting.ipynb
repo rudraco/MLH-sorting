{
  "nbformat": 4,
  "nbformat_minor": 0,
  "metadata": {
    "colab": {
      "name": "sorting.ipynb",
      "provenance": [],
      "collapsed_sections": [],
      "authorship_tag": "ABX9TyOQut95uKdG8fXupiKG9UnX",
      "include_colab_link": true
    },
    "kernelspec": {
      "name": "python3",
      "display_name": "Python 3"
    }
  },
  "cells": [
    {
      "cell_type": "markdown",
      "metadata": {
        "id": "view-in-github",
        "colab_type": "text"
      },
      "source": [
        "<a href=\"https://colab.research.google.com/github/rudraco/MLH-sorting/blob/develop/sorting.ipynb\" target=\"_parent\"><img src=\"https://colab.research.google.com/assets/colab-badge.svg\" alt=\"Open In Colab\"/></a>"
      ]
    },
    {
      "cell_type": "code",
      "metadata": {
        "id": "cA0D393qwCf6"
      },
      "source": [
        "a=[3,9,2,15,6]"
      ],
      "execution_count": 1,
      "outputs": []
    },
    {
      "cell_type": "code",
      "metadata": {
        "id": "WfivHlh14-ER"
      },
      "source": [
        "def insertion_sort(arr):\n",
        "  n = len(arr)\n",
        "  for i in range(n):\n",
        "    k = arr[i]    # start from arr[1]\n",
        "    j = i - 1     # j is left element of pair of i\n",
        "    # as long as j is greater than or equals to 0 and left \n",
        "    # element(arr[j]) of key is bigger than k, \n",
        "        \n",
        "    while j >= 0 and arr[j] > k:\n",
        "      # swap: its left item will move to k\n",
        "      arr[j + 1] = arr[j]\n",
        "      # j moves down to the left\n",
        "      j = j - 1\n",
        "      # once all sorted, move elements where j stopped lastly\n",
        "    arr[j + 1] = k\n",
        "  print(arr)"
      ],
      "execution_count": 9,
      "outputs": []
    },
    {
      "cell_type": "code",
      "metadata": {
        "colab": {
          "base_uri": "https://localhost:8080/"
        },
        "id": "OcNgJcwB5Nz9",
        "outputId": "afd5d001-f7d1-41cf-aea6-68c2880ee52e"
      },
      "source": [
        "insertion_sort(a)"
      ],
      "execution_count": 10,
      "outputs": [
        {
          "output_type": "stream",
          "text": [
            "[2, 3, 6, 9, 15]\n"
          ],
          "name": "stdout"
        }
      ]
    },
    {
      "cell_type": "code",
      "metadata": {
        "id": "eGAVpo3460xf"
      },
      "source": [
        ""
      ],
      "execution_count": null,
      "outputs": []
    }
  ]
}